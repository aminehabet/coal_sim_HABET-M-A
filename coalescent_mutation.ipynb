{
 "cells": [
  {
   "cell_type": "code",
   "execution_count": 21,
   "metadata": {},
   "outputs": [],
   "source": [
    "import numpy as np\n",
    "import matplotlib.pyplot as plt\n",
    "import random as rd\n",
    "import logging\n",
    "#logging.basicConfig(format='[%(levelname)s@%(name)s] %(message)s', level=logging.DEBUG)\n",
    "#from graphviz import Digraph"
   ]
  },
  {
   "cell_type": "code",
   "execution_count": 22,
   "metadata": {},
   "outputs": [],
   "source": [
    "#we will need the fonction combinaison\n",
    "def factoriel(k):\n",
    "    fact = k\n",
    "    if k == 0:\n",
    "        return 1\n",
    "    else:\n",
    "        while k - 1 > 0:\n",
    "            fact *= k - 1\n",
    "            k -= 1\n",
    "        return fact\n",
    "\n",
    "    \n",
    "#combinaison of 2 from k\n",
    "def combinaison(k):\n",
    "    comb = factoriel(k)/(2 * factoriel(k-2))    \n",
    "    return comb\n",
    "\n",
    "def rate(mu, k, v_t):\n",
    "    w = k * mu + (1/v_t) * combinaison(k)\n",
    "    return w\n",
    "\n"
   ]
  },
  {
   "cell_type": "code",
   "execution_count": 23,
   "metadata": {},
   "outputs": [],
   "source": [
    "#The first version of our simulator\n",
    "\n",
    "M = 100000 #number of chromosomes\n",
    "k = 2 #number of individual to have one coalescent\n",
    "mu = 0 #witout mutation\n",
    "t = 0 \n",
    "v_t = np.piecewise(t, (t < 100, t >= 100),(1 ,2))\n",
    "coal = (1/v_t) * combinaison(k)\n"
   ]
  },
  {
   "cell_type": "code",
   "execution_count": 24,
   "metadata": {},
   "outputs": [],
   "source": [
    "#The second version of our simulator\n",
    "\n",
    "M = 100000 #number of chromosomes\n",
    "k = 100 #number of individual\n",
    "mu = 1000 #we choose it so that the mutattion rate = 10^5\n",
    "t = 0\n",
    "v_t = np.piecewise(t, (t < 100, t >= 100),(1 ,2))\n",
    "coal = (1/v_t) * combinaison(k)"
   ]
  },
  {
   "cell_type": "markdown",
   "metadata": {},
   "source": [
    "time is sampled till the next event from Poisson process with the rate w.\n",
    "\n",
    "and we generate type of the event following Bernoulli distributionwe using the binomial distribution with n = 1 to have a bernouli distribution .\n",
    "\n",
    "if the bernouli generate 1, we have mutation in chromosome which is an interval [0; 1], and in time t.\n",
    "\n",
    "if the bernouli generate 0, we have coalescent between two individuals i and j randomly in time t.\n",
    "\n",
    "We print the result of all mutations and coalescents (according to the parameters)\n",
    "\n"
   ]
  },
  {
   "cell_type": "code",
   "execution_count": 25,
   "metadata": {},
   "outputs": [
    {
     "name": "stdout",
     "output_type": "stream",
     "text": [
      "coalescent between i and j at the moment t:\n",
      "[[55, 14, 0.00010623515444241525], [72, 44, 0.00011977029889437351], [64, 29, 0.0001296989633775492], [12, 33, 0.000183027620712477], [17, 76, 0.00018377451494137748], [73, 54, 0.00018974300767350154], [47, 13, 0.00021456536293038898], [44, 45, 0.00021818761164165172], [46, 4, 0.0002629190923555115], [40, 57, 0.0002802164547853193], [46, 36, 0.00029212628364064756], [37, 31, 0.0003306332785908685], [37, 21, 0.00036048977290684413], [44, 35, 0.00036530744239907824], [4, 45, 0.0003741917163032569], [28, 40, 0.0003822425469771497], [42, 2, 0.00042063660370612215], [31, 10, 0.0004280486862048473], [1, 39, 0.00046105443623405574], [14, 6, 0.0004623655704721709], [12, 7, 0.0004885509390242983], [36, 37, 0.0004997171898303563], [21, 23, 0.0005136122935242428], [6, 19, 0.0005145563376424346], [6, 24, 0.000559943227964813], [11, 2, 0.0005717950905240225], [21, 32, 0.0005840802938202736], [1, 15, 0.0005938966875155891], [29, 3, 0.0006301248204003948], [25, 2, 0.0006559487535348878], [17, 1, 0.0007016205279321135], [3, 5, 0.0007075384872565518], [12, 6, 0.0007248706791172069], [9, 15, 0.0007264564061433008], [16, 4, 0.0007437285391371474], [6, 14, 0.0007562780832978116], [8, 5, 0.0007626938412265348], [12, 13, 0.0007764551812788064], [3, 7, 0.0007812826573889594], [4, 10, 0.0007843464418130791], [7, 12, 0.0008035216328240944], [1, 8, 0.0008106831062937764], [11, 3, 0.0008135341227247511], [7, 3, 0.0008139773948870365], [3, 8, 0.000825822586417005], [3, 4, 0.0008554065693482457], [2, 6, 0.0008640534881111927], [3, 2, 0.0008687225593184964], [3, 1, 0.0008782393800248337], [3, 2, 0.0008976641021202866], [2, 1, 0.0009362591045663506], [1, 0, 0.0009527246293167585]]\n",
      "\n",
      "\n",
      "mutation in the individue i in the place p at the moment t:\n",
      "[[17, 0.5692038748222122, 2.1163730180260487e-05], [97, 0.06310682188770933, 2.4784004609789443e-05], [15, 0.49543508709194095, 2.5435544109348546e-05], [57, 0.47224524357611664, 2.705517833996916e-05], [48, 0.7887233511355132, 4.164404002952216e-05], [12, 0.48785665652414756, 5.1944649469300066e-05], [49, 0.43276706790505337, 5.2239255606160375e-05], [0, 0.6958328667684435, 7.051509955040472e-05], [34, 0.7215400323407826, 7.909617635150916e-05], [29, 0.5911534350013039, 8.318161987744485e-05], [13, 0.9014274576114836, 9.755094333608904e-05], [3, 0.022322111021323865, 0.00010489431679696991], [83, 0.5414124727934966, 0.00012911603718356553], [48, 0.6864838541790798, 0.00016378437320851606], [54, 0.7258526014465152, 0.00017962763429814566], [67, 0.22169166627303505, 0.00019969826201619634], [56, 0.9391670189485866, 0.00020951468919868234], [70, 0.23308445025757263, 0.00021517677054193267], [29, 0.6768485398499744, 0.00022752878123977497], [58, 0.9522444552911937, 0.0002423665704110716], [2, 0.4161799388943461, 0.0002547885082960589], [12, 0.1859062658947177, 0.00026312032649652837], [37, 0.12088995980580641, 0.0002765611283932484], [42, 0.8955753946414917, 0.00028022492505684767], [64, 0.9364405867994596, 0.0002979615667778252], [27, 0.5077172505113161, 0.0003397527127747054], [58, 0.670305566414071, 0.00035160561552999916], [19, 0.28415936669394815, 0.0003640764615264848], [56, 0.499362057791631, 0.0003678849206331001], [32, 0.39335362306983956, 0.00037015798579853154], [54, 0.034525830151341586, 0.0003813576378496162], [15, 0.7437306552931983, 0.0003889003229236566], [25, 0.4143139993007743, 0.00041409973083554727], [11, 0.36712383142708804, 0.0004251090855661669], [44, 0.7758376499599652, 0.0004752957596976883], [23, 0.0864675897282483, 0.0004812008435193633], [42, 0.5084264882499818, 0.0004864904986979121], [10, 0.5209384176131452, 0.0004984576594727217], [25, 0.37052266664574673, 0.0005119116418128021], [1, 0.4693201411030239, 0.0005365829828210898], [19, 0.703382088603836, 0.0006113139741595346], [19, 0.5931837303800576, 0.000613112148864574], [12, 0.6471561653193026, 0.0006764979382518633], [5, 0.5022385584334831, 0.0007029835769683233], [0, 0.7705231398308006, 0.0007065325909105783], [17, 0.9200864349327219, 0.0007155287455836422], [4, 0.23217612806301458, 0.0008728955191424295]]\n"
     ]
    }
   ],
   "source": [
    "#Compile the \"first version of our simulator\" than this piece to have result of the first part of our simulator\n",
    "#Compile the \"second version of our simulator\" than this piece to have result of the second part of our simulator\n",
    "rd.seed(1)\n",
    "T = []\n",
    "mut = []\n",
    "w = rate(mu, k, v_t)\n",
    "t = 0\n",
    "while k > 1:\n",
    "    t += np.random.exponential(1/w)#time is sampled till the next event from Poisson process with the rate w\n",
    "    if np.random.binomial(1,k*mu/w): #we use the binomial distribution with n = 1 to have a bernouli distribution\n",
    "        i = rd.randint(0,k-1)\n",
    "        place=rd.random()\n",
    "        mut.append([i,place,t])\n",
    "    else:\n",
    "        i,j = np.random.choice(k, 2, replace=False)\n",
    "        T.append([i,j,t])\n",
    "    \n",
    "    k -= 1\n",
    "print(\"coalescent between i and j at the moment t:\")\n",
    "print(T)\n",
    "print('\\n')\n",
    "print(\"mutation in the individue i in the place p at the moment t:\")\n",
    "print(mut)\n"
   ]
  },
  {
   "cell_type": "code",
   "execution_count": null,
   "metadata": {},
   "outputs": [],
   "source": []
  },
  {
   "cell_type": "code",
   "execution_count": null,
   "metadata": {},
   "outputs": [],
   "source": []
  }
 ],
 "metadata": {
  "kernelspec": {
   "display_name": "Python 3",
   "language": "python",
   "name": "python3"
  },
  "language_info": {
   "codemirror_mode": {
    "name": "ipython",
    "version": 3
   },
   "file_extension": ".py",
   "mimetype": "text/x-python",
   "name": "python",
   "nbconvert_exporter": "python",
   "pygments_lexer": "ipython3",
   "version": "3.7.3"
  }
 },
 "nbformat": 4,
 "nbformat_minor": 2
}
